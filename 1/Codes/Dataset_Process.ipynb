{
  "nbformat": 4,
  "nbformat_minor": 0,
  "metadata": {
    "colab": {
      "name": "Dataset_Process.ipynb",
      "provenance": [],
      "collapsed_sections": []
    },
    "kernelspec": {
      "name": "python3",
      "display_name": "Python 3"
    },
    "language_info": {
      "name": "python"
    }
  },
  "cells": [
    {
      "cell_type": "markdown",
      "metadata": {
        "id": "j6ePSS07FsQQ"
      },
      "source": [
        "##  <font color=MediumSlateBlue>Importing Libraries</font> ##"
      ]
    },
    {
      "cell_type": "code",
      "metadata": {
        "id": "V3_yT_DTFsQd"
      },
      "source": [
        "import matplotlib.pyplot as plt\n",
        "import numpy as np\n",
        "import pandas as pd\n",
        "import random"
      ],
      "execution_count": null,
      "outputs": []
    },
    {
      "cell_type": "markdown",
      "metadata": {
        "id": "sjhMNt72Gg1j"
      },
      "source": [
        "####  <font color=SlateBlue>Google Colab</font>"
      ]
    },
    {
      "cell_type": "code",
      "metadata": {
        "colab": {
          "base_uri": "https://localhost:8080/"
        },
        "id": "OSuOCbwjIP5o",
        "outputId": "a40078bc-01ba-431e-9542-9ef7fd5bd670"
      },
      "source": [
        "from google.colab import drive\n",
        "drive.mount('/content/gdrive')"
      ],
      "execution_count": null,
      "outputs": [
        {
          "output_type": "stream",
          "text": [
            "Drive already mounted at /content/gdrive; to attempt to forcibly remount, call drive.mount(\"/content/gdrive\", force_remount=True).\n"
          ],
          "name": "stdout"
        }
      ]
    },
    {
      "cell_type": "markdown",
      "metadata": {
        "id": "iePJ6gtmtwVZ"
      },
      "source": [
        "####  <font color=SlateBlue>Readng Images</font>"
      ]
    },
    {
      "cell_type": "code",
      "metadata": {
        "id": "Qzpiow87twBK"
      },
      "source": [
        "import os\n",
        "import cv2\n",
        "import shutil"
      ],
      "execution_count": null,
      "outputs": []
    },
    {
      "cell_type": "markdown",
      "metadata": {
        "id": "KUAjCIMTe_tl"
      },
      "source": [
        "####  <font color=SlateBlue>Preprocessing</font>"
      ]
    },
    {
      "cell_type": "code",
      "metadata": {
        "id": "zMM9OAvYe-vz"
      },
      "source": [
        "from sklearn import preprocessing\n",
        "from sklearn.model_selection import train_test_split as trainTestSplitter\n",
        "from sklearn.decomposition import PCA"
      ],
      "execution_count": null,
      "outputs": []
    },
    {
      "cell_type": "markdown",
      "metadata": {
        "id": "Jc-Sow1WzvRX"
      },
      "source": [
        "##  <font color=MediumSlateBlue>Classes</font> ##"
      ]
    },
    {
      "cell_type": "markdown",
      "metadata": {
        "id": "sOB3aIOiFsQh"
      },
      "source": [
        "####  <font color=SlateBlue>Image Loader</font> ####\n",
        "Methods to load and copy images to various files"
      ]
    },
    {
      "cell_type": "code",
      "metadata": {
        "id": "_eVFHD__aBv5"
      },
      "source": [
        "class ImgLoader():\n",
        "  def __init__(self): pass\n",
        "\n",
        "  def copyImgToFolder(self, sourcePath, destPath, numBeMoved):\n",
        "    beMovedImgNames = random.sample(os.listdir(sourcePath), numBeMoved)\n",
        "    [shutil.copy(os.path.join(sourcePath, imgName), \n",
        "                 os.path.join(destPath, imgName)) for imgName in beMovedImgNames]\n",
        "\n",
        "  def readImgFromFolder(self, filePath, startIndx, numImg):\n",
        "    imgs = []\n",
        "    imgFeatures = {'age':[], 'gender':[], 'race':[]}\n",
        "    \n",
        "    cnt = 0\n",
        "    fileNames = os.listdir(filePath) \n",
        "\n",
        "    for fileName in fileNames[startIndx:startIndx+numImg]:\n",
        "      img = cv2.imread(os.path.join(filePath, fileName))\n",
        "  \n",
        "      if img is not None:\n",
        "        imgs.append(img.flatten())\n",
        "        fileName = fileName.replace('.jpg.chip.jpg', '')\n",
        "        imgFeatures['age'].append(fileName.split('_')[0])\n",
        "        imgFeatures['gender'].append(fileName.split('_')[1])\n",
        "        imgFeatures['race'].append(fileName.split('_')[2])\n",
        "\n",
        "      cnt=cnt+1\n",
        "      if cnt>numImg: break\n",
        "\n",
        "    return imgs, imgFeatures\n",
        "\n",
        "  def showImgsInFolder(self, filePath, numImgShow):\n",
        "    imgs, imgFeatures = self.readImgFromFolder(filePath, numImgShow)\n",
        "\n",
        "    for imgIndx in range(numImgShow):\n",
        "      plt.imshow(imgs[imgIndx].reshape(200, 200, 3))\n",
        "      plt.title('age: ' + str(imgFeatures['age'][imgIndx]) + \n",
        "                '\\n gender: ' + str(imgFeatures['gender'][imgIndx]) + \n",
        "                '\\n race: ' + str(imgFeatures['race'][imgIndx]))\n",
        "      plt.xticks(())\n",
        "      plt.yticks(())\n",
        "      plt.show()\n",
        "\n",
        "  def showSelectedImg(self, imgs, imgFeatures, imgIndx):\n",
        "    plt.imshow(imgs[imgIndx].reshape(200, 200, 3))\n",
        "    plt.title('age: ' + str(imgFeatures['age'][imgIndx]) + \n",
        "              '\\n gender: ' + str(imgFeatures['gender'][imgIndx]) + \n",
        "              '\\n race: ' + str(imgFeatures['race'][imgIndx]))\n",
        "    plt.xticks(())\n",
        "    plt.yticks(())\n",
        "    plt.show()\n"
      ],
      "execution_count": null,
      "outputs": []
    },
    {
      "cell_type": "markdown",
      "metadata": {
        "id": "PJH6He5ZfZfi"
      },
      "source": [
        "####  <font color=SlateBlue>Preprocessng</font> ####\n",
        "Methods to preprocess data and making it ready as the input of neural network"
      ]
    },
    {
      "cell_type": "code",
      "metadata": {
        "id": "xyoxxXCHfZNb"
      },
      "source": [
        "class Preprocessing():\n",
        "  def __init__(self): pass\n",
        "\n",
        "  def splitter(self, data, dataLabels, size=0.2):\n",
        "    return trainTestSplitter(data, dataLabels, test_size=size, random_state=42)\n",
        "\n",
        "  def trainNormalizer(self, data, method='normalize'):\n",
        "    if method == 'Standard Scaler':\n",
        "      scaler = preprocessing.StandardScaler()\n",
        "    elif method == 'Min Max Scaler':\n",
        "      scaler = preprocessing.MinMaxScaler(feature_range = (0,1))\n",
        "    elif method == 'normalize':\n",
        "      scaler = preprocessing.Normalizer()\n",
        "\n",
        "    scaler.fit(data)\n",
        "    self.scaler = scaler\n",
        "\n",
        "    return scaler.transform(data)\n",
        "\n",
        "  def employNormalizer(self, data): return (self.scaler).transform(data)\n",
        "\n",
        "  def trainPCA(self, data, numComp=128, whitenState=False):\n",
        "    _pca = PCA(n_components=numComp, whiten=whitenState, random_state=42)\n",
        "\n",
        "    _pca.fit(data)\n",
        "    self.pca = _pca\n",
        "\n",
        "    return _pca.transform(data)\n",
        "\n",
        "  def employPCA(self, data): return (self.pca).transform(data)"
      ],
      "execution_count": null,
      "outputs": []
    },
    {
      "cell_type": "markdown",
      "metadata": {
        "id": "N_VyjVdP8Efs"
      },
      "source": [
        "####  <font color=SlateBlue>Batches of Data</font> ####\n",
        "Methods to read data in a batch format"
      ]
    },
    {
      "cell_type": "code",
      "metadata": {
        "id": "zIKLM5LDAeYY"
      },
      "source": [
        "class BatchDataCreator():\n",
        "  def __init__(self, _data, _dataLabels, _batchSize):\n",
        "    self.data = _data\n",
        "    self.dataLabels = _dataLabels\n",
        "    self.batchSize = _batchSize\n",
        "  def __iter__(self):\n",
        "    for indx in range(0, len(self.data), self.batchSize):\n",
        "      yield (np.matrix(self.data[indx:indx+self.batchSize]), \n",
        "             np.matrix(self.dataLabels[indx:indx+self.batchSize]))"
      ],
      "execution_count": null,
      "outputs": []
    },
    {
      "cell_type": "markdown",
      "metadata": {
        "id": "Tp9Sb28PoJ6G"
      },
      "source": [
        "##  <font color=MediumSlateBlue>Loading Images</font> ##"
      ]
    },
    {
      "cell_type": "markdown",
      "metadata": {
        "id": "JVijcZ0S0vwx"
      },
      "source": [
        "Copy samples to a specific file and read them."
      ]
    },
    {
      "cell_type": "code",
      "metadata": {
        "id": "iwdLegD6oP6C"
      },
      "source": [
        "sourcePath = '/content/gdrive/My Drive/Colab Notebooks/Deep Learning/HW/1/Dataset/UTKFace' #direction of main dataset\n",
        "destPath = '/content/gdrive/My Drive/Colab Notebooks/Deep Learning/HW/1/Dataset/UTKFace_Samples' #direction where 3000 images need to be copied "
      ],
      "execution_count": null,
      "outputs": []
    },
    {
      "cell_type": "code",
      "metadata": {
        "id": "387h4m7mbBy6"
      },
      "source": [
        "myImgLoader = ImgLoader()"
      ],
      "execution_count": null,
      "outputs": []
    },
    {
      "cell_type": "code",
      "metadata": {
        "id": "tl986vGCoUV7"
      },
      "source": [
        "myImgLoader.copyImgToFolder(sourcePath, destPath, 3000)"
      ],
      "execution_count": null,
      "outputs": []
    },
    {
      "cell_type": "code",
      "metadata": {
        "id": "0oirrSpDH6mI"
      },
      "source": [
        "imgs, imgFeatures = myImgLoader.readImgFromFolder(destPath, 0, 3000)"
      ],
      "execution_count": null,
      "outputs": []
    },
    {
      "cell_type": "code",
      "metadata": {
        "colab": {
          "base_uri": "https://localhost:8080/",
          "height": 298
        },
        "id": "5ouMwqz5t39z",
        "outputId": "d74132dd-c903-44f3-d999-476006c74a64"
      },
      "source": [
        "myImgLoader.showSelectedImg(imgs, imgFeatures, 12)"
      ],
      "execution_count": null,
      "outputs": [
        {
          "output_type": "display_data",
          "data": {
            "image/png": "[encoded data removed]",
            "text/plain": [
              "<Figure size 432x288 with 1 Axes>"
            ]
          },
          "metadata": {
            "tags": []
          }
        }
      ]
    },
    {
      "cell_type": "markdown",
      "metadata": {
        "id": "G8K1EfizmOas"
      },
      "source": [
        "##  <font color=MediumSlateBlue>Preprocess and save data</font>"
      ]
    },
    {
      "cell_type": "code",
      "metadata": {
        "id": "8LCf6dG4bIGS"
      },
      "source": [
        "preprocess = Preprocessing()"
      ],
      "execution_count": null,
      "outputs": []
    },
    {
      "cell_type": "code",
      "metadata": {
        "id": "ERUhCS17vikl"
      },
      "source": [
        "imgs = preprocess.trainNormalizer(imgs, method='normalize')"
      ],
      "execution_count": null,
      "outputs": []
    },
    {
      "cell_type": "code",
      "metadata": {
        "colab": {
          "base_uri": "https://localhost:8080/"
        },
        "id": "3sUcmjO3yynR",
        "outputId": "f8c5b819-a3bc-4f60-927a-ee12b1f69249"
      },
      "source": [
        "imgs.shape"
      ],
      "execution_count": null,
      "outputs": [
        {
          "output_type": "execute_result",
          "data": {
            "text/plain": [
              "(3000, 120000)"
            ]
          },
          "metadata": {
            "tags": []
          },
          "execution_count": 14
        }
      ]
    },
    {
      "cell_type": "code",
      "metadata": {
        "id": "hgUEPXe7sToJ"
      },
      "source": [
        "imgs = preprocess.trainPCA(imgs, 128)"
      ],
      "execution_count": null,
      "outputs": []
    },
    {
      "cell_type": "code",
      "metadata": {
        "colab": {
          "base_uri": "https://localhost:8080/"
        },
        "id": "u2lDtDbsFOUp",
        "outputId": "6448dc92-b4bc-4f49-ed4d-d3fd794f0a7e"
      },
      "source": [
        "imgs.shape"
      ],
      "execution_count": null,
      "outputs": [
        {
          "output_type": "execute_result",
          "data": {
            "text/plain": [
              "(3000, 128)"
            ]
          },
          "metadata": {
            "tags": []
          },
          "execution_count": 16
        }
      ]
    },
    {
      "cell_type": "code",
      "metadata": {
        "id": "h8B5yhL9FpeK"
      },
      "source": [
        "beStoredData = np.zeros((1000,131))\n",
        "\n",
        "clmName = []\n",
        "for i in range(1,129):\n",
        "  clmName.append('pixel'+str(i))\n",
        "clmName.append('age')\n",
        "clmName.append('gender')\n",
        "clmName.append('race')\n",
        "\n",
        "for i in range(0,20000, 1000):\n",
        "  imgs, imgFeatures = myImgLoader.readImgFromFolder(sourcePath, i, 1000)\n",
        "\n",
        "  imgs = preprocess.employNormalizer(imgs)\n",
        "  imgs = preprocess.employPCA(imgs)\n",
        "\n",
        "  beStoredData[:,0:128] = imgs\n",
        "  beStoredData[:,128] = np.array(imgFeatures['age'])\n",
        "  beStoredData[:,129] = np.array(imgFeatures['gender'])\n",
        "  beStoredData[:,130] = np.array(imgFeatures['race'])\n",
        "  \n",
        "\n",
        "  df = pd.DataFrame(beStoredData, columns=clmName)\n",
        "  df.to_csv(r'/content/gdrive/My Drive/Colab Notebooks/Deep Learning/HW/1/Dataset/Reduced_UTKFace/dataset'+str(int(i/1000))+'.csv', index = False) #direction where csv files are stored"
      ],
      "execution_count": null,
      "outputs": []
    }
  ]
}